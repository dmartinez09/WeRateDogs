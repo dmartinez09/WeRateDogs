{
 "cells": [
  {
   "cell_type": "markdown",
   "metadata": {},
   "source": [
    "## Wrangle Report"
   ]
  },
  {
   "cell_type": "markdown",
   "metadata": {},
   "source": [
    "## Projects details\n",
    "About this project\n",
    "<ul>\n",
    "    <li>Gathering Data</li>\n",
    "    <li>Assesing Data</li>\n",
    "    <li>Cleaning Data</li>\n",
    "    <li>Storing, analyzing and visualizing your wrangled Data</li>\n",
    "</ul> "
   ]
  },
  {
   "cell_type": "markdown",
   "metadata": {},
   "source": [
    "## Gathering Data"
   ]
  },
  {
   "cell_type": "markdown",
   "metadata": {},
   "source": [
    "This project involved data from different sources such as we gonna see below\n",
    "<ul>\n",
    "    <li>Enhanced Twitter Archive</li>\n",
    "    The archive called \"twitter-archive-enhanced-2\" was provided by Udacity Course and i was used pd.read_csv('twitter-archive-enhanced-2.csv') to import them into a DataFrame\n",
    "    <li>Imagen prediction</li>\n",
    "    The Imagen prediction was a File (image_predictions.tvs)hosted on Udacity servers and was download using a python library and URL information about it\n",
    "    <li>Twitter API</li>\n",
    "   I use a Python library called Tweepy API. The Tweepy API returned the data in JSON format that contains retweet count and favorite count for each tweet to obtain through Twitter API\n",
    "    <li>Storing, analyzing and visualizing your wrangled Data</li>\n",
    "</ul> "
   ]
  },
  {
   "cell_type": "markdown",
   "metadata": {},
   "source": [
    "## Assesing Data"
   ]
  },
  {
   "cell_type": "markdown",
   "metadata": {},
   "source": [
    "First off the data have been gathered from different resourses such as enhanced twitter archive, downloaded archive through Udacity and tweepy API through Twitter.\n",
    "Then I separated the issues detected in quality and tiddiness issues and prepare the data to cleaning it. \n"
   ]
  },
  {
   "cell_type": "markdown",
   "metadata": {},
   "source": [
    "## Cleaning Data"
   ]
  },
  {
   "cell_type": "markdown",
   "metadata": {},
   "source": [
    "When I had to clean the data, the first thing that should do was assessed for issues, the second thing was to merge all of them into the main data frame. Although I created a copy of this data frame cleaned. This methodology helped me to got accurate data to the last item and to get the accurate visualizing data."
   ]
  },
  {
   "cell_type": "markdown",
   "metadata": {},
   "source": [
    "## Storing, analyzing and visualizing your wrangled Data"
   ]
  },
  {
   "cell_type": "markdown",
   "metadata": {},
   "source": [
    "The last step was to analyze the data cleaned and provide accurate visualization of the Data that gonna be explained in the act_report.pdf"
   ]
  },
  {
   "cell_type": "code",
   "execution_count": null,
   "metadata": {},
   "outputs": [],
   "source": []
  }
 ],
 "metadata": {
  "kernelspec": {
   "display_name": "Python 3",
   "language": "python",
   "name": "python3"
  },
  "language_info": {
   "codemirror_mode": {
    "name": "ipython",
    "version": 3
   },
   "file_extension": ".py",
   "mimetype": "text/x-python",
   "name": "python",
   "nbconvert_exporter": "python",
   "pygments_lexer": "ipython3",
   "version": "3.8.5"
  }
 },
 "nbformat": 4,
 "nbformat_minor": 4
}
